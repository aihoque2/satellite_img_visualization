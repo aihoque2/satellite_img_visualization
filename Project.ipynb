{
 "cells": [
  {
   "cell_type": "code",
   "execution_count": 0,
   "metadata": {
    "collapsed": false,
    "scrolled": true
   },
   "outputs": [
   ],
   "source": [
    "!pip3 install pyshp\n",
    "!pip3 install geopandas\n",
    "!pip3 install OWSLib\n",
    "!pip3 install zipfile"
   ]
  },
  {
   "cell_type": "code",
   "execution_count": 9,
   "metadata": {
    "collapsed": false
   },
   "outputs": [
   ],
   "source": [
    "import shapefile as shp\n",
    "import json\n",
    "import geopandas as gpd\n",
    "from owslib.wms import WebMapService\n",
    "\n",
    "import zipfile"
   ]
  },
  {
   "cell_type": "markdown",
   "metadata": {
    "collapsed": false
   },
   "source": [
    "in the tutorial, the author gets the sattellite image data from the Dutch government open data portal. However, the data has been moved, and I got the rest of the data from the dropbox. I cannot get the satellite image data, so I just used his image tiles, but I know what he is doing. Now we will have to unzip our zipfiles containing the images and shapefiles:"
   ]
  },
  {
   "cell_type": "code",
   "execution_count": 11,
   "metadata": {
    "collapsed": false
   },
   "outputs": [
   ],
   "source": [
    "#extracting the shapefiles\n",
    "#zip_ref = zipfile.ZipFile('2017_09.zip')\n",
    "#zip_ref.extractall('shapefile')\n",
    "\n",
    "#extracting the image tiles\n",
    "#zip_ref = zipfile.ZipFile('image_tiles_200.zip')\n",
    "#zip_ref.extractall('image_tiles')\n",
    "\n",
    "###here we define the BOUNDING_BOX, or region where we would like to visualize###\n",
    "\n",
    "x_min = 90000 #min x-val (start in our coordinate)\n",
    "y_min = 427000 #min y-val\n",
    "dx, dy = 200, 200 #(the amount of x and y we would want stored from the map in each tile)\n",
    "\n",
    "no_tiles_x = 100 #number of tiles on the grid over the image\n",
    "no_tiles_y = 100 #total tiles we make is 10,000\n",
    " \n",
    "x_max = x_min + no_tiles_x * dx #max x-val (end in our coordinates)\n",
    "y_max = y_min + no_tiles_y * dy #max y-val \n",
    "BOUNDING_BOX = [x_min, y_min, x_max, y_max] #this is the important global variable we wanted\n",
    "\n"
   ]
  },
  {
   "cell_type": "markdown",
   "metadata": {
    "collapsed": false
   },
   "source": [
    "We extracted the zipfiles now. let's read our shapefile and convert its contents into a json so we do not have to repeat the shapefile-reading process each time:"
   ]
  },
  {
   "cell_type": "code",
   "execution_count": 12,
   "metadata": {
    "collapsed": false,
    "scrolled": true
   },
   "outputs": [
   ],
   "source": [
    "filename ='shapefile/2017_09/Wegvakken.shp'\n",
    "\n",
    "reader = shp.Reader(filename)\n",
    "\n",
    "fields = reader.fields[1:] #list that stores each filed (or column)\n",
    "field_names = [field[0] for field in fields]\n",
    "\n",
    "buffer=[]\n",
    "for sr in reader.shapeRecords(): #we should maybe use geopandas to read and save memory?\n",
    "    attrib = dict(zip(field_names, sr.record)) #each column of the shp table gets in the \n",
    "    geom = sr.shape.__geo_interface__ #storing the info about the geometry in each row of the shaperecords\n",
    "    buffer.append(dict(type=\"Feature\", geometry=geom, properties=attrib))\n"
   ]
  },
  {
   "cell_type": "markdown",
   "metadata": {
    "collapsed": false
   },
   "source": [
    "We have now created the buffer list. The problem, now is that we need to make sure that some objects, such as bytes from the geometry part of the shapefile or datetime objects from the date column, need to be re-encoded, geopandas typically has a version of dealing with this by writing into a geojson."
   ]
  },
  {
   "cell_type": "code",
   "execution_count": 0,
   "metadata": {
    "collapsed": false
   },
   "outputs": [
   ],
   "source": [
    "def JSONencoder(obj):\n",
    "    \"\"\"JSON serializer for objects not serializable by default json code\"\"\"\n",
    "    \n",
    "    if isinstance(obj, (datetime, date)):\n",
    "        serial = obj.isoformat()\n",
    "        return serial\n",
    "    if isinstance(obj, bytes):\n",
    "        return {'__class__': 'bytes',\n",
    "                '__value__': list(obj)}\n",
    "    raise TypeError (\"Type %s not serializable\" % type(obj))"
   ]
  },
  {
   "cell_type": "markdown",
   "metadata": {
    "collapsed": false
   },
   "source": [
    "from this, we create create our json file"
   ]
  },
  {
   "cell_type": "code",
   "execution_count": 0,
   "metadata": {
    "collapsed": false
   },
   "outputs": [
   ],
   "source": [
    "output_filename = 'output.json'\n",
    "json_file = open(output_filename, \"w\")\n",
    "json_file.write(json.dumps({\"type\": \"FeatureCollection\", \"features\": buffer}, indent=2, default=JSONencoder) + \"\\n\") #write to json_file \n",
    "json_file.close()"
   ]
  },
  {
   "cell_type": "markdown",
   "metadata": {
    "collapsed": false
   },
   "source": [
    "Mapping the layers now. We want to determine which image tiles have roads, and which do not:"
   ]
  },
  {
   "cell_type": "code",
   "execution_count": 0,
   "metadata": {
    "collapsed": false
   },
   "outputs": [
   ],
   "source": [
    "####### MAPPING TIME ##########\n",
    "#let's define some important keys first\n",
    "Python\n",
    "#First we define some variables, and dictionary keys which are going to be used throughout the rest.\n",
    "dict_roadtype = {\n",
    "    \"G\": 'Gemeente',\n",
    "    \"R\": 'Rijk',\n",
    "    \"P\": 'Provincie',\n",
    "    \"W\": 'Waterschap',\n",
    "    'T': 'Andere wegbeheerder',\n",
    "    '' : 'leeg'\n",
    "}\n",
    "\n",
    "dict_roadtype_to_color = {\n",
    "    \"G\": 'red',\n",
    "    \"R\": 'blue',\n",
    "    \"P\": 'green',\n",
    "    \"W\": 'magenta',\n",
    "    'T': 'yellow',\n",
    "    '' : 'leeg'\n",
    "}\n",
    "\n",
    "FEATURES_KEY = 'features'\n",
    "PROPERTIES_KEY = 'properties'\n",
    "GEOMETRY_KEY = 'geometry'\n",
    "COORDINATES_KEY = 'coordinates'\n",
    "WEGSOORT_KEY = 'WEGBEHSRT'\n",
    "\n",
    "MINIMUM_NO_POINTS_PER_TILE = 4\n",
    "POINTS_PER_METER = 0.1\n",
    "\n",
    "INPUT_FOLDER_TILES = './data/image_tiles/'\n",
    "\n",
    "\n",
    "filename_wegvakken = './data/nwb_wegvakken/2017_09_wegvakken.json'\n",
    "dict_nwb_wegvakken = json.load(open(filename_wegvakken))[FEATURES_KEY]\n",
    "d_tile_contents = defaultdict(list)\n",
    "d_roadtype_tiles = defaultdict(set)\n",
    "1\n",
    "2\n",
    "3\n",
    "4\n",
    "5\n",
    "6\n",
    "7\n",
    "8\n",
    "9\n",
    "10\n",
    "11\n",
    "12\n",
    "13\n",
    "14\n",
    "15\n",
    "16\n",
    "17\n",
    "18\n",
    "19\n",
    "20\n",
    "21\n",
    "22\n",
    "23\n",
    "24\n",
    "25\n",
    "26\n",
    "27\n",
    "28\n",
    "29\n",
    "30\n",
    "31\n",
    "32\n",
    "33\n",
    "34\n",
    "35\n",
    "#First we define some variables, and dictionary keys which are going to be used throughout the rest.\n",
    "dict_roadtype = {\n",
    "    \"G\": 'Gemeente',\n",
    "    \"R\": 'Rijk',\n",
    "    \"P\": 'Provincie',\n",
    "    \"W\": 'Waterschap',\n",
    "    'T': 'Andere wegbeheerder',\n",
    "    '' : 'leeg'\n",
    "}\n",
    " \n",
    "dict_roadtype_to_color = {\n",
    "    \"G\": 'red',\n",
    "    \"R\": 'blue',\n",
    "    \"P\": 'green',\n",
    "    \"W\": 'magenta',\n",
    "    'T': 'yellow',\n",
    "    '' : 'leeg'\n",
    "}\n",
    " \n",
    "FEATURES_KEY = 'features'\n",
    "PROPERTIES_KEY = 'properties'\n",
    "GEOMETRY_KEY = 'geometry'\n",
    "COORDINATES_KEY = 'coordinates'\n",
    "WEGSOORT_KEY = 'WEGBEHSRT'\n",
    " \n",
    "MINIMUM_NO_POINTS_PER_TILE = 4\n",
    "POINTS_PER_METER = 0.1\n",
    " \n",
    "INPUT_FOLDER_TILES = '/image_tiles/'\n",
    " \n",
    " \n",
    "filename_wegvakken = './data/nwb_wegvakken/2017_09_wegvakken.json'\n",
    "dict_nwb_wegvakken = json.load(open(filename_wegvakken))[FEATURES_KEY]\n",
    "d_tile_contents = defaultdict(list)\n",
    "d_roadtype_tiles = defaultdict(set)"
   ]
  },
  {
   "cell_type": "code",
   "execution_count": 0,
   "metadata": {
    "collapsed": false
   },
   "outputs": [
   ],
   "source": [
   ]
  }
 ],
 "metadata": {
  "kernelspec": {
   "display_name": "Python 3 (Ubuntu Linux)",
   "language": "python",
   "metadata": {
    "cocalc": {
     "description": "Python 3 programming language",
     "priority": 100,
     "url": "https://www.python.org/"
    }
   },
   "name": "python3"
  },
  "language_info": {
   "codemirror_mode": {
    "name": "ipython",
    "version": 3
   },
   "file_extension": ".py",
   "mimetype": "text/x-python",
   "name": "python",
   "nbconvert_exporter": "python",
   "pygments_lexer": "ipython3",
   "version": "3.6.7"
  }
 },
 "nbformat": 4,
 "nbformat_minor": 0
}